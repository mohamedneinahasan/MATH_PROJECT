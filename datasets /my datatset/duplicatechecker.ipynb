{
 "cells": [
  {
   "cell_type": "code",
   "execution_count": 3,
   "metadata": {},
   "outputs": [
    {
     "name": "stdout",
     "output_type": "stream",
     "text": [
      "Defaulting to user installation because normal site-packages is not writeable\n",
      "Requirement already satisfied: pandas in /Users/mohamedneinahasan/Library/Python/3.9/lib/python/site-packages (2.2.3)\n",
      "Requirement already satisfied: numpy>=1.22.4 in /Users/mohamedneinahasan/Library/Python/3.9/lib/python/site-packages (from pandas) (2.0.2)\n",
      "Requirement already satisfied: python-dateutil>=2.8.2 in /Users/mohamedneinahasan/Library/Python/3.9/lib/python/site-packages (from pandas) (2.9.0.post0)\n",
      "Requirement already satisfied: pytz>=2020.1 in /Users/mohamedneinahasan/Library/Python/3.9/lib/python/site-packages (from pandas) (2024.2)\n",
      "Requirement already satisfied: tzdata>=2022.7 in /Users/mohamedneinahasan/Library/Python/3.9/lib/python/site-packages (from pandas) (2024.2)\n",
      "Requirement already satisfied: six>=1.5 in /Library/Developer/CommandLineTools/Library/Frameworks/Python3.framework/Versions/3.9/lib/python3.9/site-packages (from python-dateutil>=2.8.2->pandas) (1.15.0)\n",
      "\n",
      "\u001b[1m[\u001b[0m\u001b[34;49mnotice\u001b[0m\u001b[1;39;49m]\u001b[0m\u001b[39;49m A new release of pip is available: \u001b[0m\u001b[31;49m24.2\u001b[0m\u001b[39;49m -> \u001b[0m\u001b[32;49m24.3.1\u001b[0m\n",
      "\u001b[1m[\u001b[0m\u001b[34;49mnotice\u001b[0m\u001b[1;39;49m]\u001b[0m\u001b[39;49m To update, run: \u001b[0m\u001b[32;49m/Library/Developer/CommandLineTools/usr/bin/python3 -m pip install --upgrade pip\u001b[0m\n",
      "Note: you may need to restart the kernel to use updated packages.\n"
     ]
    }
   ],
   "source": [
    "pip install pandas"
   ]
  },
  {
   "cell_type": "code",
   "execution_count": 1,
   "metadata": {},
   "outputs": [
    {
     "ename": "NameError",
     "evalue": "name 'json' is not defined",
     "output_type": "error",
     "traceback": [
      "\u001b[0;31m---------------------------------------------------------------------------\u001b[0m",
      "\u001b[0;31mNameError\u001b[0m                                 Traceback (most recent call last)",
      "Cell \u001b[0;32mIn[1], line 21\u001b[0m\n\u001b[1;32m     18\u001b[0m \u001b[38;5;66;03m# Example usage:\u001b[39;00m\n\u001b[1;32m     19\u001b[0m \u001b[38;5;66;03m# Assuming your data is in a JSON file\u001b[39;00m\n\u001b[1;32m     20\u001b[0m \u001b[38;5;28;01mwith\u001b[39;00m \u001b[38;5;28mopen\u001b[39m(\u001b[38;5;124m'\u001b[39m\u001b[38;5;124m/Users/mohamedneinahasan/Downloads/project/datasets /my datatset/scoredataset.json\u001b[39m\u001b[38;5;124m'\u001b[39m, \u001b[38;5;124m'\u001b[39m\u001b[38;5;124mr\u001b[39m\u001b[38;5;124m'\u001b[39m) \u001b[38;5;28;01mas\u001b[39;00m f:\n\u001b[0;32m---> 21\u001b[0m     data \u001b[38;5;241m=\u001b[39m \u001b[43mjson\u001b[49m\u001b[38;5;241m.\u001b[39mload(f)\n\u001b[1;32m     23\u001b[0m duplicate_questions \u001b[38;5;241m=\u001b[39m check_duplicate_questions(data)\n\u001b[1;32m     25\u001b[0m \u001b[38;5;28;01mif\u001b[39;00m duplicate_questions:\n",
      "\u001b[0;31mNameError\u001b[0m: name 'json' is not defined"
     ]
    }
   ],
   "source": [
    "import pandas as pd\n",
    "\n",
    "def check_duplicate_questions(data):\n",
    "    \"\"\"Checks for duplicate algebraic word problems in a list of dictionaries.\n",
    "\n",
    "    Args:\n",
    "        data: A list of dictionaries, each containing information about a question.\n",
    "\n",
    "    Returns:\n",
    "        A list of duplicate questions.\n",
    "    \"\"\"\n",
    "\n",
    "    df = pd.DataFrame(data)\n",
    "    duplicate_questions = df[df.duplicated(subset=['algebraic_word_problem'], keep=False)]\n",
    "\n",
    "    return duplicate_questions.to_dict('records')\n",
    "\n",
    "# Example usage:\n",
    "# Assuming your data is in a JSON file\n",
    "with open('/Users/mohamedneinahasan/Downloads/project/datasets /my datatset/scoredataset.json', 'r') as f:\n",
    "    data = json.load(f)\n",
    "\n",
    "duplicate_questions = check_duplicate_questions(data)\n",
    "\n",
    "if duplicate_questions:\n",
    "    print(\"Duplicate questions found:\")\n",
    "    for question in duplicate_questions:\n",
    "        print(question)\n",
    "else:\n",
    "    print(\"No duplicate questions found.\")"
   ]
  },
  {
   "cell_type": "code",
   "execution_count": 3,
   "metadata": {},
   "outputs": [
    {
     "ename": "NameError",
     "evalue": "name 'json' is not defined",
     "output_type": "error",
     "traceback": [
      "\u001b[0;31m---------------------------------------------------------------------------\u001b[0m",
      "\u001b[0;31mNameError\u001b[0m                                 Traceback (most recent call last)",
      "Cell \u001b[0;32mIn[3], line 21\u001b[0m\n\u001b[1;32m     18\u001b[0m \u001b[38;5;66;03m# Example usage:\u001b[39;00m\n\u001b[1;32m     19\u001b[0m \u001b[38;5;66;03m# Assuming your data is in a JSON file\u001b[39;00m\n\u001b[1;32m     20\u001b[0m \u001b[38;5;28;01mwith\u001b[39;00m \u001b[38;5;28mopen\u001b[39m(\u001b[38;5;124m'\u001b[39m\u001b[38;5;124m/Users/mohamedneinahasan/Downloads/project/datasets /my datatset/scoredataset.json\u001b[39m\u001b[38;5;124m'\u001b[39m, \u001b[38;5;124m'\u001b[39m\u001b[38;5;124mr\u001b[39m\u001b[38;5;124m'\u001b[39m) \u001b[38;5;28;01mas\u001b[39;00m f:\n\u001b[0;32m---> 21\u001b[0m     data \u001b[38;5;241m=\u001b[39m \u001b[43mjson\u001b[49m\u001b[38;5;241m.\u001b[39mload(f)\n\u001b[1;32m     23\u001b[0m duplicate_counts \u001b[38;5;241m=\u001b[39m count_duplicate_questions(data)\n\u001b[1;32m     25\u001b[0m \u001b[38;5;28;01mif\u001b[39;00m duplicate_counts:\n",
      "\u001b[0;31mNameError\u001b[0m: name 'json' is not defined"
     ]
    }
   ],
   "source": [
    "import pandas as pd\n",
    "\n",
    "def count_duplicate_questions(data):\n",
    "    \"\"\"Counts the number of times each duplicate question appears.\n",
    "\n",
    "    Args:\n",
    "        data: A list of dictionaries, each containing information about a question.\n",
    "\n",
    "    Returns:\n",
    "        A dictionary mapping duplicate questions to their counts.\n",
    "    \"\"\"\n",
    "\n",
    "    df = pd.DataFrame(data)\n",
    "    duplicate_counts = df['algebraic_word_problem'].value_counts()[df['algebraic_word_problem'].value_counts() > 1]\n",
    "\n",
    "    return duplicate_counts.to_dict()\n",
    "\n",
    "# Example usage:\n",
    "# Assuming your data is in a JSON file\n",
    "with open('/Users/mohamedneinahasan/Downloads/project/datasets /my datatset/scoredataset.json', 'r') as f:\n",
    "    data = json.load(f)\n",
    "\n",
    "duplicate_counts = count_duplicate_questions(data)\n",
    "\n",
    "if duplicate_counts:\n",
    "    print(\"Duplicate questions and their counts:\")\n",
    "    for question, count in duplicate_counts.items():\n",
    "        print(f\"{question}: {count} times\")\n",
    "else:\n",
    "    print(\"No duplicate questions found.\")"
   ]
  },
  {
   "cell_type": "code",
   "execution_count": null,
   "metadata": {},
   "outputs": [],
   "source": []
  }
 ],
 "metadata": {
  "kernelspec": {
   "display_name": "Python 3",
   "language": "python",
   "name": "python3"
  },
  "language_info": {
   "codemirror_mode": {
    "name": "ipython",
    "version": 3
   },
   "file_extension": ".py",
   "mimetype": "text/x-python",
   "name": "python",
   "nbconvert_exporter": "python",
   "pygments_lexer": "ipython3",
   "version": "3.9.6"
  }
 },
 "nbformat": 4,
 "nbformat_minor": 2
}
